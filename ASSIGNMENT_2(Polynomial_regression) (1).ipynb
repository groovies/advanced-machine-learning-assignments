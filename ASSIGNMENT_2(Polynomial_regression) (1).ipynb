{
  "nbformat": 4,
  "nbformat_minor": 0,
  "metadata": {
    "colab": {
      "name": "ASSIGNMENT 2(Polynomial regression).ipynb",
      "provenance": []
    },
    "kernelspec": {
      "name": "python3",
      "display_name": "Python 3"
    },
    "language_info": {
      "name": "python"
    }
  },
  "cells": [
    {
      "cell_type": "markdown",
      "metadata": {
        "id": "LG8loAXwgM_8"
      },
      "source": [
        "#polynomial regression\n",
        "\n",
        "-polynomial regression is used on data that is non-linear\n",
        "-is a form of regression analysis in which the relationship between the independent variable x and the dependent variable y is modelled as an nth degree polynomial in x. Polynomial regression fits a nonlinear relationship between the value of x and the corresponding conditional mean of y,"
      ]
    },
    {
      "cell_type": "code",
      "metadata": {
        "id": "UsGMKqVQgEx_"
      },
      "source": [
        "#importing libraries\n",
        "import operator\n",
        "import numpy as np\n",
        "import matplotlib.pyplot as plt\n",
        "from sklearn.linear_model import LinearRegression\n",
        "from sklearn.metrics import mean_squared_error, r2_score\n",
        "from sklearn.preprocessing import PolynomialFeatures"
      ],
      "execution_count": null,
      "outputs": []
    },
    {
      "cell_type": "code",
      "metadata": {
        "id": "Su5_CJfWTAs_"
      },
      "source": [
        "#generating data\n",
        "np.random.seed(0)\n",
        "x = 2 - 3 * np.random.normal(0, 1, 20)\n",
        "y = x - 2 * (x ** 2) + 0.5 * (x ** 3) + np.random.normal(-3, 3, 20)\n",
        "\n",
        "# transforming the data to include another axis\n",
        "x = x[:, np.newaxis]\n",
        "y = y[:, np.newaxis]\n"
      ],
      "execution_count": 33,
      "outputs": []
    },
    {
      "cell_type": "markdown",
      "metadata": {
        "id": "TMJGduQQhvcf"
      },
      "source": [
        "#inputing degree of polynomial(allowing a user to input different degree of polynomial) \n",
        "\n",
        "in this study i wouldlike to use different degrees of polynomial(3,6 and 10) to be able to the effect of degree of polynomial in our polynomial regression"
      ]
    },
    {
      "cell_type": "markdown",
      "metadata": {
        "id": "mP2tsYvPmbLC"
      },
      "source": [
        "#First computation (when the degree of polynomial is 3)"
      ]
    },
    {
      "cell_type": "code",
      "metadata": {
        "colab": {
          "base_uri": "https://localhost:8080/",
          "height": 0
        },
        "id": "uQqoyhz-T8RG",
        "outputId": "0239d0e2-85fb-43d8-f457-367289e3f33f"
      },
      "source": [
        "#allowing a user to input degree of polynomial\n",
        "value = int(input(\"Please enter the degree of polynomial:\"))\n",
        "polynomial_features= PolynomialFeatures(degree=value)\n",
        "x_poly = polynomial_features.fit_transform(x)\n",
        "\n",
        "model = LinearRegression()\n",
        "model.fit(x_poly, y)\n",
        "y_poly_pred = model.predict(x_poly)\n",
        "\n",
        "rmse = np.sqrt(mean_squared_error(y,y_poly_pred))\n",
        "r2 = r2_score(y,y_poly_pred)\n",
        "\n"
      ],
      "execution_count": 69,
      "outputs": [
        {
          "output_type": "stream",
          "text": [
            "Please enter the degree of polynomial:3\n"
          ],
          "name": "stdout"
        }
      ]
    },
    {
      "cell_type": "code",
      "metadata": {
        "colab": {
          "base_uri": "https://localhost:8080/",
          "height": 300
        },
        "id": "QlUpi1sMUEdK",
        "outputId": "c2e28f1d-342a-453f-b8de-6507895f4a80"
      },
      "source": [
        "print('RMSE of polynomial regression =', rmse)\n",
        "print('R2 of polynomial regression =',r2)\n",
        "plt.scatter(x, y, s=10)\n",
        "# sort the values of x before line plot\n",
        "sort_axis = operator.itemgetter(0)\n",
        "sorted_zip = sorted(zip(x,y_poly_pred), key=sort_axis)\n",
        "x, y_poly_pred = zip(*sorted_zip)\n",
        "plt.plot(x, y_poly_pred, color='m')\n",
        "plt.show()\n"
      ],
      "execution_count": 71,
      "outputs": [
        {
          "output_type": "stream",
          "text": [
            "RMSE of polynomial regression = 23.188985407100322\n",
            "R2 of polynomial regression = 0.23225482806073816\n"
          ],
          "name": "stdout"
        },
        {
          "output_type": "display_data",
          "data": {
            "image/png": "[encoded data removed]",
            "text/plain": [
              "<Figure size 432x288 with 1 Axes>"
            ]
          },
          "metadata": {
            "tags": [],
            "needs_background": "light"
          }
        }
      ]
    },
    {
      "cell_type": "markdown",
      "metadata": {
        "id": "dcDg2LYUmPgP"
      },
      "source": [
        "##Second computation (when the degree of polynomial is 6)"
      ]
    },
    {
      "cell_type": "code",
      "metadata": {
        "colab": {
          "base_uri": "https://localhost:8080/",
          "height": 0
        },
        "id": "WzCSiLKEdCQQ",
        "outputId": "6b39baa8-f064-4450-f2af-f4468f14c88b"
      },
      "source": [
        "#allowing a user to input degree of polynomial\n",
        "value = int(input(\"Please enter the degree of polynomial:\"))\n",
        "polynomial_features= PolynomialFeatures(degree=value)\n",
        "x_poly = polynomial_features.fit_transform(x)\n",
        "\n",
        "model = LinearRegression()\n",
        "model.fit(x_poly, y)\n",
        "y_poly_pred = model.predict(x_poly)\n",
        "\n",
        "rmse = np.sqrt(mean_squared_error(y,y_poly_pred))\n",
        "r2 = r2_score(y,y_poly_pred)"
      ],
      "execution_count": 72,
      "outputs": [
        {
          "output_type": "stream",
          "text": [
            "Please enter the degree of polynomial:6\n"
          ],
          "name": "stdout"
        }
      ]
    },
    {
      "cell_type": "code",
      "metadata": {
        "colab": {
          "base_uri": "https://localhost:8080/",
          "height": 302
        },
        "id": "ypBmVwfXi0rE",
        "outputId": "7324aca1-58bf-4073-b58b-055128e37274"
      },
      "source": [
        "print('RMSE of polynomial regression =', rmse)\n",
        "print('R2 of polynomial regression =',r2)\n",
        "plt.scatter(x, y, s=10)\n",
        "# sort the values of x before line plot\n",
        "sort_axis = operator.itemgetter(0)\n",
        "sorted_zip = sorted(zip(x,y_poly_pred), key=sort_axis)\n",
        "x, y_poly_pred = zip(*sorted_zip)\n",
        "plt.plot(x, y_poly_pred, color='m')\n",
        "plt.show()"
      ],
      "execution_count": 73,
      "outputs": [
        {
          "output_type": "stream",
          "text": [
            "RMSE of polynomial regression = 18.92591108947121\n",
            "R2 of polynomial regression = 0.48859238498541213\n"
          ],
          "name": "stdout"
        },
        {
          "output_type": "display_data",
          "data": {
            "image/png": "[encoded data removed]",
            "text/plain": [
              "<Figure size 432x288 with 1 Axes>"
            ]
          },
          "metadata": {
            "tags": [],
            "needs_background": "light"
          }
        }
      ]
    },
    {
      "cell_type": "code",
      "metadata": {
        "id": "q0Sk-FZel7I3"
      },
      "source": [
        ""
      ],
      "execution_count": null,
      "outputs": []
    },
    {
      "cell_type": "markdown",
      "metadata": {
        "id": "KNzyHES_l73i"
      },
      "source": [
        "#Third computation (when the degree of polynomial is 10)"
      ]
    },
    {
      "cell_type": "code",
      "metadata": {
        "colab": {
          "base_uri": "https://localhost:8080/",
          "height": 0
        },
        "id": "TLRi7skFi4re",
        "outputId": "4a851de8-597e-4818-ae3a-1ba5ade7578d"
      },
      "source": [
        "#allowing a user to input degree of polynomial\n",
        "value = int(input(\"Please enter the degree of polynomial:\"))\n",
        "polynomial_features= PolynomialFeatures(degree=value)\n",
        "x_poly = polynomial_features.fit_transform(x)\n",
        "\n",
        "model = LinearRegression()\n",
        "model.fit(x_poly, y)\n",
        "y_poly_pred = model.predict(x_poly)\n",
        "\n",
        "rmse = np.sqrt(mean_squared_error(y,y_poly_pred))\n",
        "r2 = r2_score(y,y_poly_pred)"
      ],
      "execution_count": 74,
      "outputs": [
        {
          "output_type": "stream",
          "text": [
            "Please enter the degree of polynomial:10\n"
          ],
          "name": "stdout"
        }
      ]
    },
    {
      "cell_type": "code",
      "metadata": {
        "colab": {
          "base_uri": "https://localhost:8080/",
          "height": 300
        },
        "id": "7U14BUuFi-jI",
        "outputId": "a0f166ac-642d-4afd-e62a-791c50ef5115"
      },
      "source": [
        "print('RMSE of polynomial regression =', rmse)\n",
        "print('R2 of polynomial regression =',r2)\n",
        "plt.scatter(x, y, s=10)\n",
        "# sort the values of x before line plot\n",
        "sort_axis = operator.itemgetter(0)\n",
        "sorted_zip = sorted(zip(x,y_poly_pred), key=sort_axis)\n",
        "x, y_poly_pred = zip(*sorted_zip)\n",
        "plt.plot(x, y_poly_pred, color='m')\n",
        "plt.show()"
      ],
      "execution_count": 75,
      "outputs": [
        {
          "output_type": "stream",
          "text": [
            "RMSE of polynomial regression = 11.370361689739033\n",
            "R2 of polynomial regression = 0.8154125547861553\n"
          ],
          "name": "stdout"
        },
        {
          "output_type": "display_data",
          "data": {
            "image/png": "[encoded data removed]",
            "text/plain": [
              "<Figure size 432x288 with 1 Axes>"
            ]
          },
          "metadata": {
            "tags": [],
            "needs_background": "light"
          }
        }
      ]
    },
    {
      "cell_type": "code",
      "metadata": {
        "id": "mR4yZd37jD5S"
      },
      "source": [
        ""
      ],
      "execution_count": null,
      "outputs": []
    },
    {
      "cell_type": "markdown",
      "metadata": {
        "id": "Bz9moBMkjMKq"
      },
      "source": [
        "#observations\n",
        "\n",
        "-we can see that from our first computation when degree of polnomial was 3, the curve did not touch many datapoints(was far from many data points) and the RMSE was very high and R2 was less showing us that the model did not predict well due to the degree of polynomial\n",
        "\n",
        "-we can see that from our second computation when degree of polnomial was 6, the curve did try to much touch many datapoints and the RMSE was a less and R2 was a bit high than when the degree of polynomial was 3 showing us that the model did try to predict well due to the degree of polynomial\n",
        "\n",
        "-we can see that from our third computation when degree of polnomial was 10, the curve touch many datapoints and the RMSE was a less and R2 was  high than when the degree of polynomial was 6 showing us that the model  predict well due to high/large degree of polynomial\n",
        "\n",
        "-we can conclude that when the degree of polynomial is big the model is able to predict well(the curve touches many data points)"
      ]
    },
    {
      "cell_type": "code",
      "metadata": {
        "id": "oRhsNxE5l1W5"
      },
      "source": [
        ""
      ],
      "execution_count": null,
      "outputs": []
    }
  ]
}